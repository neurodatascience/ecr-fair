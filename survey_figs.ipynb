{
 "cells": [
  {
   "cell_type": "code",
   "execution_count": null,
   "metadata": {},
   "outputs": [],
   "source": [
    "import pandas as pd\n",
    "import seaborn as sns\n",
    "import matplotlib.pyplot as plt\n",
    "import numpy as np\n"
   ]
  },
  {
   "cell_type": "markdown",
   "metadata": {},
   "source": [
    "### Paths"
   ]
  },
  {
   "cell_type": "code",
   "execution_count": null,
   "metadata": {},
   "outputs": [],
   "source": [
    "survey_response = \"/home/nikhil/projects/neuroinformatics_tools/ecr-fair/survey/openpub_survey_response.csv\""
   ]
  },
  {
   "cell_type": "markdown",
   "metadata": {},
   "source": [
    "### Load data"
   ]
  },
  {
   "cell_type": "code",
   "execution_count": null,
   "metadata": {},
   "outputs": [],
   "source": [
    "survey_df = pd.read_csv(survey_response)\n",
    "n_respondents = survey_df.shape[0]\n",
    "print(f\"Number of respondents: {n_respondents}\")\n",
    "survey_df.head()"
   ]
  },
  {
   "cell_type": "markdown",
   "metadata": {},
   "source": [
    "### Palettes"
   ]
  },
  {
   "cell_type": "code",
   "execution_count": null,
   "metadata": {},
   "outputs": [],
   "source": [
    "coolwarm_4 = [\"#0081a7\", \"#00afb9\", \"#fed9b7\", \"#f07167\"]\n",
    "sns.palettes.color_palette(coolwarm_4)\n",
    "sns.palplot(coolwarm_4)"
   ]
  },
  {
   "cell_type": "code",
   "execution_count": null,
   "metadata": {},
   "outputs": [],
   "source": [
    "coolwarm_7= [\"#001524\",\"#15616d\",\"#8aa79f\",\"#ffecd1\",\"#ff7d00\",\"#bc5308\",\"#78290f\"]\n",
    "sns.palettes.color_palette(coolwarm_7)\n",
    "sns.palplot(coolwarm_7)"
   ]
  },
  {
   "cell_type": "code",
   "execution_count": null,
   "metadata": {},
   "outputs": [],
   "source": [
    "cat_1 = [\"#335c67\",\"#fff3b0\",\"#e09f3e\",\"#9e2a2b\",\"#540b0e\"]\n",
    "sns.palettes.color_palette(cat_1)\n",
    "sns.palplot(cat_1)"
   ]
  },
  {
   "cell_type": "code",
   "execution_count": null,
   "metadata": {},
   "outputs": [],
   "source": [
    "cat_2 = [\"#335c67\",\"#fff3b0\",\"#e09f3e\",\"#9e2a2b\"]\n",
    "sns.palettes.color_palette(cat_2)\n",
    "sns.palplot(cat_2)"
   ]
  },
  {
   "cell_type": "code",
   "execution_count": null,
   "metadata": {},
   "outputs": [],
   "source": [
    "reds = [\"#590d22\",\"#800f2f\",\"#a4133c\",\"#c9184a\",\"#ff4d6d\",\"#ff758f\",\"#ff8fa3\",\"#ffb3c1\",\"#ffccd5\"]\n",
    "reds = reds[::-1]\n",
    "sns.palettes.color_palette(reds)\n",
    "sns.palplot(reds)"
   ]
  },
  {
   "cell_type": "markdown",
   "metadata": {},
   "source": [
    "### Daily difficulties"
   ]
  },
  {
   "cell_type": "code",
   "execution_count": null,
   "metadata": {},
   "outputs": [],
   "source": [
    "daily_tasks_cols = survey_df.columns[3:10]\n",
    "\n",
    "plot_df = survey_df[daily_tasks_cols].copy()\n",
    "\n",
    "plot_df = plot_df.rename(columns={daily_tasks_cols[0]   : \"capture\",\n",
    "                                    daily_tasks_cols[1] : \"organization\",\n",
    "                                    daily_tasks_cols[2] : \"processing\",\n",
    "                                    daily_tasks_cols[3] : \"maintenance\",\n",
    "                                    daily_tasks_cols[4] : \"QC\",\n",
    "                                    daily_tasks_cols[5] : \"annotation\",\n",
    "                                    daily_tasks_cols[6] : \"publication\"})\n",
    "\n",
    "plot_counts = plot_df.apply(pd.value_counts).fillna(0)\n",
    "plot_counts[\"time_burden\"] = [\"most\", \"high\", \"above-avg\", \"average\", \"below-avg\", \"low\", \"least\"]\n",
    "plot_counts = plot_counts.set_index(\"time_burden\")\n",
    "plot_counts"
   ]
  },
  {
   "cell_type": "code",
   "execution_count": null,
   "metadata": {},
   "outputs": [],
   "source": [
    "g = sns.heatmap(plot_counts.T, annot=True, cmap=coolwarm_7, cbar=True)\n",
    "g.set_title(\"Time-burden of data-tasks (counts)\")\n",
    "g.set_xticklabels(g.get_xticklabels(), rotation=45)\n"
   ]
  },
  {
   "cell_type": "markdown",
   "metadata": {},
   "source": [
    "### FAIR experience"
   ]
  },
  {
   "cell_type": "code",
   "execution_count": null,
   "metadata": {},
   "outputs": [],
   "source": [
    "fair_cols = survey_df.columns[12:16]\n",
    "plot_df = survey_df[fair_cols].copy()\n",
    "\n",
    "plot_df = plot_df.rename(columns={fair_cols[0]   : \"Findability\",\n",
    "                                    fair_cols[1] : \"Accessibility\",\n",
    "                                    fair_cols[2] : \"Interoperability\",\n",
    "                                    fair_cols[3] : \"Reusability\"})\n",
    "\n",
    "\n",
    "plot_df.head()\n"
   ]
  },
  {
   "cell_type": "code",
   "execution_count": null,
   "metadata": {},
   "outputs": [],
   "source": [
    "fig, axes = plt.subplots(2, 2, figsize=(16, 8), sharex=False)\n",
    "\n",
    "for i, col in enumerate(plot_df.columns):\n",
    "    ax = axes.flatten()[i]\n",
    "    \n",
    "    if col == \"Reusability\":\n",
    "        plot_df[\"Reusability\"] = plot_df[\"Reusability\"].str.split(\",\")\n",
    "        plot_df[\"Reusability\"] = plot_df[\"Reusability\"].explode(\"Reusability\").str.strip()\n",
    "\n",
    "    col_df = plot_df[col].copy()\n",
    "    \n",
    "    plot_counts = col_df.value_counts().to_frame().T.copy()\n",
    "    \n",
    "    if col == \"Findability\":\n",
    "        # plot_counts = plot_counts[plot_counts > 1].dropna(axis=1)\n",
    "        plot_counts = plot_counts.rename(columns={\"The dataset’s existence could only be known through personal contact with the dataset owner(s) (i.e. “insider knowledge”)\":\n",
    "                                                   \"The dataset’s existence could only be known through personal contact with the dataset owner(s)\"})\n",
    "\n",
    "    elif col == \"Accessibility\":\n",
    "        plot_counts = plot_counts[plot_counts > 5].dropna(axis=1)\n",
    "        plot_counts[\"Received incomplete data and needed back & forth communicatoin with the authors\"] = n_respondents - plot_counts.sum(axis=1).values[0]\n",
    "    \n",
    "    elif col == \"Reusability\":\n",
    "        plot_counts = plot_counts[plot_counts > 1].dropna(axis=1)\n",
    "        plot_counts[\"The dataset was too messy for reuse in reasonable timeframe\"] = n_respondents - plot_counts.sum(axis=1).values[0]\n",
    "        plot_counts = plot_counts.rename(columns={\"There was enough information about how the data was collected so that an independent group could reproduce the original experiment\":\n",
    "                                                    \"There was enough information for an independent group to reproduce the original experiment\"})\n",
    "    \n",
    "    elif col == \"Interoperability\":\n",
    "        plot_counts = plot_counts[plot_counts > 1].dropna(axis=1)\n",
    "        plot_counts[\"Short description (with errors) was available\"] = n_respondents - plot_counts.sum(axis=1).values[0]\n",
    "\n",
    "    else:\n",
    "        print(f\"unknown column: {col}\")\n",
    "\n",
    "    plot_counts_percent = plot_counts / n_respondents * 100\n",
    "    plot_counts_percent.plot(kind=\"barh\", stacked=True, color=cat_2, legend=True, ax=ax, width=0.25, align=\"center\")\n",
    "    # ax.legend(title=col, loc=\"upper center\", bbox_to_anchor=(0.5, 2.2), fontsize=10)\n",
    "    ax.legend(fontsize=9, loc=\"upper center\")\n",
    "    ax.set_title(col)\n",
    "    # ax.set_xticklabels(\"\")\n",
    "    ax.set_yticklabels(\"\")\n",
    "    ax.set_xlabel(\"Counts (%)\")\n",
    "    sns.despine(left=True, bottom=False)\n",
    "plt.tight_layout()"
   ]
  },
  {
   "cell_type": "markdown",
   "metadata": {},
   "source": [
    "### Fairnes of my data"
   ]
  },
  {
   "cell_type": "code",
   "execution_count": null,
   "metadata": {},
   "outputs": [],
   "source": [
    "self_fair_cols = survey_df.columns[16:24]\n",
    "\n",
    "plot_df = survey_df[self_fair_cols].copy()\n",
    "\n",
    "plot_df = plot_df.rename(columns={self_fair_cols[0]   : \"F1\",\n",
    "                                    self_fair_cols[1] : \"F2\",\n",
    "                                    self_fair_cols[2] : \"A1\",\n",
    "                                    self_fair_cols[3] : \"A2\",\n",
    "                                    self_fair_cols[4] : \"I1\",\n",
    "                                    self_fair_cols[5] : \"I2\",\n",
    "                                    self_fair_cols[6] : \"R1\",\n",
    "                                    self_fair_cols[7] : \"R2\"})\n",
    "\n",
    "\n",
    "plot_counts = plot_df.apply(pd.value_counts).fillna(0)\n",
    "plot_counts[\"FAIRness\"] = [\"very poor\",\"poor\",\"below avg\",\"above avg\",\"good\",\"excellent\"] +  [\"not sure\"]\n",
    "plot_counts = plot_counts.set_index(\"FAIRness\")\n",
    "plot_counts"
   ]
  },
  {
   "cell_type": "code",
   "execution_count": null,
   "metadata": {},
   "outputs": [],
   "source": [
    "g = sns.heatmap(plot_counts.T, annot=True, cmap=coolwarm_7, cbar=True)\n",
    "g.set_title(\"FAIRness of my data (counts)\")\n",
    "g.set_xticklabels(g.get_xticklabels(), rotation=45)\n"
   ]
  },
  {
   "cell_type": "markdown",
   "metadata": {},
   "source": [
    "### reproducibility timeframe"
   ]
  },
  {
   "cell_type": "code",
   "execution_count": null,
   "metadata": {},
   "outputs": [],
   "source": [
    "repro_cols = survey_df.columns[24:27]\n",
    "plot_df = survey_df[repro_cols].copy()\n",
    "time_dict = {\"< 1 week\": 1,\n",
    "            \"1 week - 1 month\": 2,\n",
    "            \"1 month - 6 months\": 3,\n",
    "            \">  6 months\": 4}\n",
    "\n",
    "plot_df = plot_df.replace(time_dict)\n",
    "plot_df.head()"
   ]
  },
  {
   "cell_type": "code",
   "execution_count": null,
   "metadata": {},
   "outputs": [],
   "source": [
    "# plt.plot(plot_df[repro_cols[1]],plot_df[repro_cols[2]], \"o\", jitter=True)\n",
    "g = sns.jointplot(x=plot_df[repro_cols[1]], y=plot_df[repro_cols[2]], \n",
    "                  kind=\"hist\", color=coolwarm_5[-1], space=1,\n",
    "                  height=6, xlim=(1, 4), ylim=(1, 4))\n",
    "g.set_axis_labels(\"You to reproduce someone else's work\",\"Someone else to reproduce your work\", fontsize=12)\n",
    "\n",
    "g.ax_joint.set_xticks(range(1, 5))\n",
    "g.ax_joint.set_xticklabels(time_dict.keys(), rotation=45)\n",
    "g.ax_joint.set_yticks(range(1, 5))\n",
    "g.ax_joint.set_yticklabels(time_dict.keys(), rotation=45)\n"
   ]
  },
  {
   "cell_type": "markdown",
   "metadata": {},
   "source": [
    "### Challenges in rerpoducibility"
   ]
  },
  {
   "cell_type": "code",
   "execution_count": null,
   "metadata": {},
   "outputs": [],
   "source": [
    "challenge_cols = survey_df.columns[28:33]\n",
    "challenge_cols"
   ]
  },
  {
   "cell_type": "code",
   "execution_count": null,
   "metadata": {},
   "outputs": [],
   "source": [
    "plot_df = survey_df[challenge_cols].copy()\n",
    "\n",
    "plot_df = plot_df.rename(columns={challenge_cols[0]   : \"Finding data details\",\n",
    "                                    challenge_cols[1] : \"Accessing data\",\n",
    "                                    challenge_cols[2] : \"Interoperability of metadata\",\n",
    "                                    challenge_cols[3] : \"Reusability issues (e.g. privacy/provenence)\",\n",
    "                                    challenge_cols[4] : \"Lack of academic incentives\"})                            \n",
    "\n",
    "\n",
    "plot_counts = plot_df.apply(pd.value_counts).fillna(0)\n",
    "plot_counts[\"difficulty/time burden\"] = [\"very high\",\"high\",\"average\",\"low\",\"very low\"] \n",
    "plot_counts = plot_counts.set_index(\"difficulty/time burden\")\n",
    "plot_counts"
   ]
  },
  {
   "cell_type": "code",
   "execution_count": null,
   "metadata": {},
   "outputs": [],
   "source": [
    "g = sns.heatmap(plot_counts.T, annot=True, cmap=coolwarm_7, cbar=True)\n",
    "g.set_title(\"Challenges in reproducing work (rank-counts)\")\n",
    "g.set_xticklabels(g.get_xticklabels(), rotation=45)\n"
   ]
  },
  {
   "cell_type": "code",
   "execution_count": null,
   "metadata": {},
   "outputs": [],
   "source": []
  }
 ],
 "metadata": {
  "kernelspec": {
   "display_name": "qlsc612",
   "language": "python",
   "name": "python3"
  },
  "language_info": {
   "codemirror_mode": {
    "name": "ipython",
    "version": 3
   },
   "file_extension": ".py",
   "mimetype": "text/x-python",
   "name": "python",
   "nbconvert_exporter": "python",
   "pygments_lexer": "ipython3",
   "version": "3.9.16"
  },
  "orig_nbformat": 4
 },
 "nbformat": 4,
 "nbformat_minor": 2
}
